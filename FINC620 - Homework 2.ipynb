{
 "cells": [
  {
   "cell_type": "markdown",
   "metadata": {},
   "source": [
    "__Name:Daniil Barbiyeru__\n",
    "\n",
    "\n",
    "---"
   ]
  },
  {
   "cell_type": "markdown",
   "metadata": {},
   "source": [
    "# Homework 2\n",
    "__Guideline:__ \n",
    "* Please write your name to the __\"Name:\"__ line above.\n",
    "* This assignment comes with a data file that is required to complete it. Download this data file (__HW2_Data.xlsx__) together with this assignment.\n",
    "* For the questions that require verbal answers, please answer them in their respective answer cells. \n",
    "* For the questions that require code, if your code doesn't work, please include a comment describing your algorithm (if code works well, no explanation is needed). \n",
    "* This homework is due on __Sep. 16, 2019, 6:00 pm.__ on Monday. You need to upload your completed homework assignment to Sakai until that time.\n",
    "---"
   ]
  },
  {
   "cell_type": "code",
   "execution_count": 1,
   "metadata": {},
   "outputs": [],
   "source": [
    "import numpy as np   # Run this cell to import these packages before writing your code, as they will be needed.\n",
    "import pandas as pd"
   ]
  },
  {
   "cell_type": "markdown",
   "metadata": {},
   "source": [
    "## __Question 1:__  \n",
    "Write a program to define a function that calculates the stock price according to dividend discount model (DDM), also called the Gordon growth model. \n",
    "\n",
    "The formula for stock price is as follows: \n",
    "* price = (dividend at the end of first year) / (cost of equity capital - growth rate) \n",
    "* P = D / (r - g)\n",
    "\n",
    "The program will require dividend at the end of first year (D), cost of equity capital (r), and growth rate (g) as __parameters__. For example, a stock with a dividend $10 per share and r = 8\\% and g = 3\\% should be priced at P = 200 dollars."
   ]
  },
  {
   "cell_type": "code",
   "execution_count": 2,
   "metadata": {},
   "outputs": [],
   "source": [
    "# 'def' is the indicator that this is a function, 'price_algo' is the function name\n",
    "# D,r,g are the variables name for the function, D = dividend, r = cost of equity capital and g = growth rate\n",
    "def price_algo(D,r,g):\n",
    "    price = D/(r-g) #Create a new variable 'price' that calculates the Gordon growth model using the provided variables\n",
    "    return price # return the 'price' variable and have it ready for use"
   ]
  },
  {
   "cell_type": "code",
   "execution_count": 3,
   "metadata": {},
   "outputs": [
    {
     "data": {
      "text/plain": [
       "200.0"
      ]
     },
     "execution_count": 3,
     "metadata": {},
     "output_type": "execute_result"
    }
   ],
   "source": [
    "# Test the 'price_algo' function using the above numbers as an example\n",
    "price_algo(10,.08,.03)"
   ]
  },
  {
   "cell_type": "markdown",
   "metadata": {},
   "source": [
    "---"
   ]
  },
  {
   "cell_type": "markdown",
   "metadata": {},
   "source": [
    "## Question 2:\n",
    "a) Generate a NumPy array with 100 random numbers, chosen from a __normal__ distribution."
   ]
  },
  {
   "cell_type": "code",
   "execution_count": 4,
   "metadata": {},
   "outputs": [],
   "source": [
    "df_2 = np.random.normal(size=100) #create a variable called 'df_2' and fill it with 100 random numbers with normal distrubition"
   ]
  },
  {
   "cell_type": "markdown",
   "metadata": {},
   "source": [
    "b) Calculate the mean, median, standard deviation, minimum, and maximum of these numbers."
   ]
  },
  {
   "cell_type": "code",
   "execution_count": 5,
   "metadata": {},
   "outputs": [
    {
     "name": "stdout",
     "output_type": "stream",
     "text": [
      "0.014992390990361204\n",
      "0.8689956342104398\n",
      "-2.0682949784307576\n",
      "2.561875798048909\n"
     ]
    }
   ],
   "source": [
    "print(df_2.mean())\n",
    "print(df_2.std())\n",
    "print(df_2.min())\n",
    "print(df_2.max())\n",
    "\n"
   ]
  },
  {
   "cell_type": "markdown",
   "metadata": {},
   "source": [
    "---"
   ]
  },
  {
   "cell_type": "markdown",
   "metadata": {},
   "source": [
    "## __Question 3:__ \n",
    "a) Construct a matrix __M__ with elements from 0, 2, 4, ..., 28, 30 (16 elements with intervals of 2 between each other). And then reshape it to a 4x4 matrix."
   ]
  },
  {
   "cell_type": "code",
   "execution_count": 6,
   "metadata": {},
   "outputs": [],
   "source": [
    "matrix_M = np.arange(0, 30, 2) #create a matrix 'matrix_M' that is filled with numbers from 0 to 30 counting by 2"
   ]
  },
  {
   "cell_type": "markdown",
   "metadata": {},
   "source": [
    "b) Multiply the matrix with itself. Also calculate the dot product of matrix M with itself. Are they different? Why? (A one sentence comment would suffice.)"
   ]
  },
  {
   "cell_type": "code",
   "execution_count": 7,
   "metadata": {
    "scrolled": true
   },
   "outputs": [
    {
     "name": "stdout",
     "output_type": "stream",
     "text": [
      "4060\n",
      "4060\n",
      "NOT COMPLETE, STILL REQUIRES ONE SENTENCE ANSWER\n"
     ]
    }
   ],
   "source": [
    "a = matrix_M*matrix_M # Assign a to the matrix multiplied by itself\n",
    "print(a.sum())\n",
    "print(np.dot(matrix_M,matrix_M)) # this prints out the dot matrix\n",
    "\n",
    "print(\"NOT COMPLETE, STILL REQUIRES ONE SENTENCE ANSWER\") # still needs an explanation of if the dot product and the matrix multiplied by itself is the same"
   ]
  },
  {
   "cell_type": "markdown",
   "metadata": {},
   "source": [
    "---"
   ]
  },
  {
   "cell_type": "markdown",
   "metadata": {},
   "source": [
    "## Question 4:\n",
    "Consider the following data provided for several stocks. \n",
    "\n",
    "Data 1: For each stock following information is provided: Its ticker, the dividend it will pay a year later (__D__), the cost of equity capital (__r__), and  the growth rate (__g__).\n",
    "\n",
    "Data 2: In a separate data frame, you also have access the current market prices of each stock.\n",
    "\n",
    "Write a program that merges these two data, and then uses the function you have constructed in Question 1 to calculate the prices according to dividend discount model. The program will compare the DDM price with market price. Finally, your program should introduce a new column to data that indicates whether the stock is __'overpriced'__ or __'underpriced'__ according to DDM. (You may want to use np.where() method to construct this column.)"
   ]
  },
  {
   "cell_type": "code",
   "execution_count": 71,
   "metadata": {},
   "outputs": [],
   "source": [
    "# This cell creates the data for you, you may simply run this and work on these data in the next cell.\n",
    "stock_info = pd.DataFrame({\n",
    "        'D' : [2, 12, 5, 4], \n",
    "        'r' : [0.05, 0.07, 0.07, 0.08], \n",
    "        'g' : [0.04, 0.02, 0.05, 0.055],\n",
    "        'Ticker' : ['Stock1', 'Stock2', 'Stock3', 'Stock4']})\n",
    "stock_prices = pd.DataFrame({\n",
    "        'Price' : [180, 300, 280, 150],\n",
    "        'Ticker' : ['Stock1', 'Stock2', 'Stock3', 'Stock4']})\n",
    "# print(stock_info) \n",
    "# print(stock_prices)"
   ]
  },
  {
   "cell_type": "code",
   "execution_count": 72,
   "metadata": {},
   "outputs": [],
   "source": [
    "df_4 = pd.merge(stock_info,stock_prices) # this merges the 2 dataframes into a single dataframe called 'df_4'\n",
    "\n",
    "\n",
    "#create a new column 'DDM' and fill it with the values calculated by 'price_algo', using the variables in columns 'D','r',and 'g'\n",
    "df_4[\"DDM\"]=price_algo(df_4[\"D\"],df_4[\"r\"],df_4[\"g\"]) # create a new column 'DDM' \n",
    "# and fill i"
   ]
  },
  {
   "cell_type": "code",
   "execution_count": 75,
   "metadata": {},
   "outputs": [],
   "source": [
    "#using the .loc function, it locates the rows that checks to see if the DDM number is greater than the Price number, and if so in a new column 'Valuation', mark it 'Overvalued'\n",
    "df_4.loc[df_4['DDM'] > df_4[\"Price\"], 'Valuation'] = \"Overvalued\"\n",
    "\n",
    "df_4.loc[df_4['DDM'] < df_4[\"Price\"], 'Valuation'] = \"Undervalued\""
   ]
  },
  {
   "cell_type": "code",
   "execution_count": 76,
   "metadata": {},
   "outputs": [
    {
     "data": {
      "text/html": [
       "<div>\n",
       "<style scoped>\n",
       "    .dataframe tbody tr th:only-of-type {\n",
       "        vertical-align: middle;\n",
       "    }\n",
       "\n",
       "    .dataframe tbody tr th {\n",
       "        vertical-align: top;\n",
       "    }\n",
       "\n",
       "    .dataframe thead th {\n",
       "        text-align: right;\n",
       "    }\n",
       "</style>\n",
       "<table border=\"1\" class=\"dataframe\">\n",
       "  <thead>\n",
       "    <tr style=\"text-align: right;\">\n",
       "      <th></th>\n",
       "      <th>D</th>\n",
       "      <th>Ticker</th>\n",
       "      <th>g</th>\n",
       "      <th>r</th>\n",
       "      <th>Price</th>\n",
       "      <th>DDM</th>\n",
       "      <th>Valuation</th>\n",
       "    </tr>\n",
       "  </thead>\n",
       "  <tbody>\n",
       "    <tr>\n",
       "      <th>0</th>\n",
       "      <td>2</td>\n",
       "      <td>Stock1</td>\n",
       "      <td>0.040</td>\n",
       "      <td>0.05</td>\n",
       "      <td>180</td>\n",
       "      <td>200.0</td>\n",
       "      <td>Overvalued</td>\n",
       "    </tr>\n",
       "    <tr>\n",
       "      <th>1</th>\n",
       "      <td>12</td>\n",
       "      <td>Stock2</td>\n",
       "      <td>0.020</td>\n",
       "      <td>0.07</td>\n",
       "      <td>300</td>\n",
       "      <td>240.0</td>\n",
       "      <td>Undervalued</td>\n",
       "    </tr>\n",
       "    <tr>\n",
       "      <th>2</th>\n",
       "      <td>5</td>\n",
       "      <td>Stock3</td>\n",
       "      <td>0.050</td>\n",
       "      <td>0.07</td>\n",
       "      <td>280</td>\n",
       "      <td>250.0</td>\n",
       "      <td>Undervalued</td>\n",
       "    </tr>\n",
       "    <tr>\n",
       "      <th>3</th>\n",
       "      <td>4</td>\n",
       "      <td>Stock4</td>\n",
       "      <td>0.055</td>\n",
       "      <td>0.08</td>\n",
       "      <td>150</td>\n",
       "      <td>160.0</td>\n",
       "      <td>Overvalued</td>\n",
       "    </tr>\n",
       "  </tbody>\n",
       "</table>\n",
       "</div>"
      ],
      "text/plain": [
       "    D  Ticker      g     r  Price    DDM    Valuation\n",
       "0   2  Stock1  0.040  0.05    180  200.0   Overvalued\n",
       "1  12  Stock2  0.020  0.07    300  240.0  Undervalued\n",
       "2   5  Stock3  0.050  0.07    280  250.0  Undervalued\n",
       "3   4  Stock4  0.055  0.08    150  160.0   Overvalued"
      ]
     },
     "execution_count": 76,
     "metadata": {},
     "output_type": "execute_result"
    }
   ],
   "source": [
    "df_4 # this just shows the end product of the dataframe"
   ]
  },
  {
   "cell_type": "markdown",
   "metadata": {},
   "source": [
    "---"
   ]
  },
  {
   "cell_type": "markdown",
   "metadata": {},
   "source": [
    "## Question 5:\n",
    "__Employee salaries.__ Write a program that calculates the salaries of employess, from a given list of employee information. You will be using the __HW2_Data.xlsx__ datafile that is provided with this homework to calculate the salaries.\n",
    "* The program will first import the weekly work information. (hours worked and hourly rate) (Sheet1)\n",
    "* Second, the program will merge the work experience information of each employee with the salary data. (Sheet2)\n",
    "\n",
    "You should then write a function that uses the following parameters to calculate salary: (hours_worked, hourly_rate, experience). You may want to check the exercise in lecture 1 as guidance, but you'll need to rewrite this function using 'np.where' instead of 'if' conditions:\n",
    "* If the employee has worked more than 40 hours in a given month, the employee will receive 150% wage for the extra hours. (i.e., x1.5)\n",
    "* Furthermore, if the employee has more than 10 years of experience, the salary will be further multiplied by x1.2.\n",
    "\n",
    "Finally, the program will create a new \"Salary\" column, by inputting the necessary information into salary function to produce the output as a new column in the dataframe.\n",
    "\n",
    "<div class=\"alert alert-block alert-info\">\n",
    "<b>Hint:</b> You'll find that 'if' condition will produce ambiguity error when creating columns in pandas (this is because the core 'if' function does not recognize the series for statement checks, without explicitly telling it which specific element of the series to look at). For this reason, you can use NumPy's 'where' function to calculate the salary. For example: \n",
    "\n",
    "* _Instead of:_ if hours > 40: salary = formula1 else: salary = formula2 || _You'll need to write:_ np.where(hours > 40, formula1, formula2). You'll need to repeat this twice since original function had two if statements, one for overtime and one for experience. \n",
    "</div>"
   ]
  },
  {
   "cell_type": "code",
   "execution_count": 188,
   "metadata": {},
   "outputs": [],
   "source": [
    "path = '/Users/katebarbiyeru/Desktop/HW2_Data.xlsx' # this is the path that contains the data file\n",
    "df_5_sheet1 = pd.read_excel(path,\"Sheet1\") # imports sheet 1 from the file into a new dataframe called 'df_5_sheet1'\n",
    "df_5_sheet2 = pd.read_excel(path,\"Sheet2\") # Imports sheet 2 from the file into a new dataframe called 'df_5_sheet2'\n",
    "df_5 = pd.merge(df_5_sheet1,df_5_sheet2) #merge the two dataframes together into a new dataframe called 'df_5'\n",
    "#The below checks to see if the hours worked is above 40, and if so, multiplies their wages by time and a half\n",
    "\n",
    "# you can use the below equation but the it might be slightly off because i give time and a half to  all hours  not just those that  are above 40 hours\n",
    "#df_5[\"Salary\"]=np.where(df_5[\"Hours Worked\"]>40,1.5*(df_5[\"Hours Worked\"]*df_5[\"Hourly Rate\"]),1.5*(df_5[\"Hours Worked\"]*df_5[\"Hourly Rate\"]))\n",
    "\n",
    "###The below  question  might not work because im not able to test it without the data file ###\n",
    "###If it doesn't work, then use the above code but the answer will be slightly off###\n",
    "df_5[\"Salary\"]=np.where(df_5[\"Hours Worked\"]>40,(1.5*(df_5[\"Hours Worked\"]-40*df_5[\"Hourly Rate\"]))+(df_5[\"Hours Worked\"]-40*df_5[\"Hourly Rate\"]),(df_5[\"Hours Worked\"]*df_5[\"Hourly Rate\"]))"
   ]
  },
  {
   "cell_type": "code",
   "execution_count": 190,
   "metadata": {},
   "outputs": [],
   "source": [
    "#Increase their salary by 1.2 if their  experience is greater than 10 years\n",
    "df_5[\"Salary\"] = df_5[\"Salary\"] * np.where(df_5[\"Experience\"]>10,1.2,1)"
   ]
  },
  {
   "cell_type": "code",
   "execution_count": 191,
   "metadata": {},
   "outputs": [
    {
     "data": {
      "text/html": [
       "<div>\n",
       "<style scoped>\n",
       "    .dataframe tbody tr th:only-of-type {\n",
       "        vertical-align: middle;\n",
       "    }\n",
       "\n",
       "    .dataframe tbody tr th {\n",
       "        vertical-align: top;\n",
       "    }\n",
       "\n",
       "    .dataframe thead th {\n",
       "        text-align: right;\n",
       "    }\n",
       "</style>\n",
       "<table border=\"1\" class=\"dataframe\">\n",
       "  <thead>\n",
       "    <tr style=\"text-align: right;\">\n",
       "      <th></th>\n",
       "      <th>Employee ID</th>\n",
       "      <th>Hours Worked</th>\n",
       "      <th>Hourly Rate</th>\n",
       "      <th>Experience</th>\n",
       "      <th>Salary</th>\n",
       "    </tr>\n",
       "  </thead>\n",
       "  <tbody>\n",
       "    <tr>\n",
       "      <th>0</th>\n",
       "      <td>1</td>\n",
       "      <td>30</td>\n",
       "      <td>20</td>\n",
       "      <td>3</td>\n",
       "      <td>900.0</td>\n",
       "    </tr>\n",
       "    <tr>\n",
       "      <th>1</th>\n",
       "      <td>2</td>\n",
       "      <td>10</td>\n",
       "      <td>20</td>\n",
       "      <td>2</td>\n",
       "      <td>300.0</td>\n",
       "    </tr>\n",
       "    <tr>\n",
       "      <th>2</th>\n",
       "      <td>3</td>\n",
       "      <td>20</td>\n",
       "      <td>20</td>\n",
       "      <td>5</td>\n",
       "      <td>600.0</td>\n",
       "    </tr>\n",
       "    <tr>\n",
       "      <th>3</th>\n",
       "      <td>4</td>\n",
       "      <td>50</td>\n",
       "      <td>20</td>\n",
       "      <td>6</td>\n",
       "      <td>1500.0</td>\n",
       "    </tr>\n",
       "    <tr>\n",
       "      <th>4</th>\n",
       "      <td>5</td>\n",
       "      <td>60</td>\n",
       "      <td>20</td>\n",
       "      <td>15</td>\n",
       "      <td>2160.0</td>\n",
       "    </tr>\n",
       "    <tr>\n",
       "      <th>5</th>\n",
       "      <td>6</td>\n",
       "      <td>25</td>\n",
       "      <td>20</td>\n",
       "      <td>20</td>\n",
       "      <td>900.0</td>\n",
       "    </tr>\n",
       "    <tr>\n",
       "      <th>6</th>\n",
       "      <td>7</td>\n",
       "      <td>40</td>\n",
       "      <td>20</td>\n",
       "      <td>12</td>\n",
       "      <td>1440.0</td>\n",
       "    </tr>\n",
       "    <tr>\n",
       "      <th>7</th>\n",
       "      <td>8</td>\n",
       "      <td>50</td>\n",
       "      <td>20</td>\n",
       "      <td>5</td>\n",
       "      <td>1500.0</td>\n",
       "    </tr>\n",
       "    <tr>\n",
       "      <th>8</th>\n",
       "      <td>9</td>\n",
       "      <td>15</td>\n",
       "      <td>20</td>\n",
       "      <td>8</td>\n",
       "      <td>450.0</td>\n",
       "    </tr>\n",
       "    <tr>\n",
       "      <th>9</th>\n",
       "      <td>10</td>\n",
       "      <td>35</td>\n",
       "      <td>20</td>\n",
       "      <td>14</td>\n",
       "      <td>1260.0</td>\n",
       "    </tr>\n",
       "  </tbody>\n",
       "</table>\n",
       "</div>"
      ],
      "text/plain": [
       "   Employee ID  Hours Worked  Hourly Rate  Experience  Salary\n",
       "0            1            30           20           3   900.0\n",
       "1            2            10           20           2   300.0\n",
       "2            3            20           20           5   600.0\n",
       "3            4            50           20           6  1500.0\n",
       "4            5            60           20          15  2160.0\n",
       "5            6            25           20          20   900.0\n",
       "6            7            40           20          12  1440.0\n",
       "7            8            50           20           5  1500.0\n",
       "8            9            15           20           8   450.0\n",
       "9           10            35           20          14  1260.0"
      ]
     },
     "execution_count": 191,
     "metadata": {},
     "output_type": "execute_result"
    }
   ],
   "source": [
    "df_5"
   ]
  },
  {
   "cell_type": "code",
   "execution_count": null,
   "metadata": {},
   "outputs": [],
   "source": []
  }
 ],
 "metadata": {
  "kernelspec": {
   "display_name": "Python 2",
   "language": "python",
   "name": "python2"
  },
  "language_info": {
   "codemirror_mode": {
    "name": "ipython",
    "version": 2
   },
   "file_extension": ".py",
   "mimetype": "text/x-python",
   "name": "python",
   "nbconvert_exporter": "python",
   "pygments_lexer": "ipython2",
   "version": "2.7.16"
  }
 },
 "nbformat": 4,
 "nbformat_minor": 4
}
